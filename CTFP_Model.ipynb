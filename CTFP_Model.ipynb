{
  "nbformat": 4,
  "nbformat_minor": 0,
  "metadata": {
    "colab": {
      "provenance": [],
      "collapsed_sections": [],
      "authorship_tag": "ABX9TyP5uYhtGORpJKLRR7UFyFiB"
    },
    "kernelspec": {
      "name": "python3",
      "display_name": "Python 3"
    },
    "language_info": {
      "name": "python"
    }
  },
  "cells": [
    {
      "cell_type": "code",
      "source": [
        "pip install mip"
      ],
      "metadata": {
        "colab": {
          "base_uri": "https://localhost:8080/"
        },
        "id": "JKpq9D5EtjY_",
        "outputId": "757feec3-6624-48c8-f20a-9bad51f06f14"
      },
      "execution_count": 1,
      "outputs": [
        {
          "output_type": "stream",
          "name": "stdout",
          "text": [
            "Looking in indexes: https://pypi.org/simple, https://us-python.pkg.dev/colab-wheels/public/simple/\n",
            "Requirement already satisfied: mip in /usr/local/lib/python3.7/dist-packages (1.14.1)\n",
            "Requirement already satisfied: cffi==1.15.0 in /usr/local/lib/python3.7/dist-packages (from mip) (1.15.0)\n",
            "Requirement already satisfied: pycparser in /usr/local/lib/python3.7/dist-packages (from cffi==1.15.0->mip) (2.21)\n"
          ]
        }
      ]
    },
    {
      "cell_type": "code",
      "source": [
        "import numpy as np\n",
        "import urllib.request \n",
        "from mip import Model, xsum, maximize, BINARY, LinExpr"
      ],
      "metadata": {
        "id": "YN9oqZmLGn5Q"
      },
      "execution_count": 2,
      "outputs": []
    },
    {
      "cell_type": "code",
      "source": [
        "#criando matriz de adjacência das relações entre os usuários\n",
        "\n",
        "graph = urllib.request.urlopen('https://raw.githubusercontent.com/natalialidia/CTFP-model/main/test-instances/S1.dat').read().decode('utf-8').split(\"\\r\\n\")\n",
        "del graph[-1] #vazio\n",
        "\n",
        "numUsers = int(graph[0].split(\" \")[0])\n",
        "relationships = np.zeros(numUsers*numUsers, dtype=np.int64).reshape(numUsers,numUsers)\n",
        "\n",
        "for line in graph[1:]:\n",
        "  l = [int(x) for x in line.split(\" \") if x]\n",
        "  if l[0] < numUsers and l[1] < numUsers:\n",
        "    relationships[l[0],l[1]] = relationships[l[1],l[0]] = int(l[2])"
      ],
      "metadata": {
        "id": "ig47hcjMqw9I"
      },
      "execution_count": 3,
      "outputs": []
    },
    {
      "cell_type": "code",
      "source": [
        "#definindo conjunto de skills de cada usuário\n",
        "\n",
        "skillsData = urllib.request.urlopen('https://raw.githubusercontent.com/natalialidia/CTFP-model/main/test-instances/K1.txt').read().decode('utf-8').split(\"\\n\")\n",
        "del skillsData[-1] #vazio\n",
        "\n",
        "numSkills = int(skillsData[0].split(\" \")[0])\n",
        "\n",
        "def userSkillSet(user):\n",
        "  return np.asarray([id for id,s in enumerate(skillsData[user+1].split(\" \")) if s and int(s) == 1])"
      ],
      "metadata": {
        "id": "tnOzE1NMq6vQ"
      },
      "execution_count": 4,
      "outputs": []
    },
    {
      "cell_type": "code",
      "source": [
        "#definindo demanda de usuários por skills para cada time\n",
        "\n",
        "teamsData = urllib.request.urlopen('https://raw.githubusercontent.com/natalialidia/CTFP-model/main/test-instances/R5.txt').read().decode('utf-8').split(\"\\n\")\n",
        "del teamsData[-1] #vazio\n",
        "\n",
        "numTeams = int(teamsData[0].split(\" \")[0])\n",
        "\n",
        "teamDemand = np.zeros(numTeams*numSkills, dtype=np.int64).reshape(numTeams, numSkills)\n",
        "\n",
        "for id, line in enumerate(teamsData[1:]):\n",
        "  l = [int(x) for x in line.split(\"\\t\") if x]\n",
        "  teamDemand[id] = np.asarray(l)\n",
        "\n",
        "print(teamDemand)\n",
        "\n",
        "#conjunto de skills que cada time precisa\n",
        "def demandSkillSet(team):\n",
        "  return np.asarray([id for id,s in enumerate(teamDemand[team]) if s > 0])"
      ],
      "metadata": {
        "id": "7brm84ihrH_9",
        "colab": {
          "base_uri": "https://localhost:8080/"
        },
        "outputId": "bad816de-002d-414e-d4e2-30a07a0730f6"
      },
      "execution_count": 5,
      "outputs": [
        {
          "output_type": "stream",
          "name": "stdout",
          "text": [
            "[[10 10 10 10 10]\n",
            " [10 10 10 10 10]]\n"
          ]
        }
      ]
    },
    {
      "cell_type": "code",
      "execution_count": 6,
      "metadata": {
        "colab": {
          "base_uri": "https://localhost:8080/"
        },
        "id": "s7e_0hYV6WRp",
        "outputId": "a0cd0382-8206-449f-cd9e-047f07901646"
      },
      "outputs": [
        {
          "output_type": "stream",
          "name": "stdout",
          "text": [
            "Valor objetivo: 219.0\n"
          ]
        }
      ],
      "source": [
        "model = Model(\"CTFP\")\n",
        "\n",
        "#variáveis\n",
        "x = [[[model.add_var(var_type=BINARY) for s in range(numSkills)] for u in range(numUsers)] for t in range(numTeams)]\n",
        "\n",
        "#função objetivo\n",
        "model.objective = maximize(xsum( xsum( xsum( x[t][u][s] for s in userSkillSet(u) ) for u in range(numUsers) ) for t in range(numTeams)))\n",
        "\n",
        "#restrições\n",
        "\n",
        "#restrição (63)\n",
        "for t in range(numTeams):\n",
        "  for u in range(numUsers):\n",
        "    for v in range(numUsers):\n",
        "      if relationships[u,v] == -1:\n",
        "        model += xsum(x[t][u][s] for s in userSkillSet(u)) + xsum(x[t][v][s] for s in userSkillSet(v)) <= 1\n",
        "\n",
        "#restrição (64)\n",
        "for t1 in range(numTeams):\n",
        "  for t2 in np.arange(t1+1, numTeams, 1):\n",
        "    for u in range(numUsers):\n",
        "      for v in range(numUsers):\n",
        "        if relationships[u,v] == 1:\n",
        "          model += xsum(x[t1][u][s] for s in userSkillSet(u)) + xsum(x[t2][v][s] for s in userSkillSet(v)) <= 1\n",
        "\n",
        "#restrição (65)\n",
        "for u in range(numUsers):\n",
        "  model += xsum( xsum( x[t][u][s] for s in userSkillSet(u)) for t in range(numTeams)) <= 1\n",
        "\n",
        "#restrição (66)\n",
        "for t in range(numTeams):\n",
        "  for s in demandSkillSet(t):\n",
        "    model += xsum( x[t][u][s] for u in range(numUsers) if s in userSkillSet(u)) >= teamDemand[t,s]\n",
        "\n",
        "model.optimize()\n",
        "\n",
        "print(f'Valor objetivo: {model.objective_value}')"
      ]
    }
  ]
}